{
 "cells": [
  {
   "cell_type": "code",
   "execution_count": 1,
   "metadata": {},
   "outputs": [],
   "source": [
    "import numpy_financial as npf"
   ]
  },
  {
   "cell_type": "code",
   "execution_count": 2,
   "metadata": {},
   "outputs": [],
   "source": [
    "interestRate        = 0.07\n",
    "numberOfMonths      = 25*12\n",
    "principalBorrowed   = 3500000"
   ]
  },
  {
   "cell_type": "code",
   "execution_count": 4,
   "metadata": {},
   "outputs": [],
   "source": [
    "principal2Pay   = npf.ppmt(interestRate/12, 1, numberOfMonths, principalBorrowed)\n",
    "interest2Pay    = npf.ipmt(interestRate/12, 1, numberOfMonths, principalBorrowed)"
   ]
  },
  {
   "cell_type": "code",
   "execution_count": 6,
   "metadata": {},
   "outputs": [
    {
     "name": "stdout",
     "output_type": "stream",
     "text": [
      "Loan amount: 3500000.00\n",
      "Loan duration in months: 300\n",
      "Annual Interest Rate in percent: 7.00\n",
      "Principal to be paid: 4320.61\n",
      "Interest to be paid: 20416.67\n",
      "Principal+Interest, to be paid: 24737.27\n"
     ]
    }
   ],
   "source": [
    "\n",
    "print(\"Loan amount: %7.2f\"%principalBorrowed)\n",
    "print(\"Loan duration in months: %d\"%numberOfMonths)\n",
    "print(\"Annual Interest Rate in percent: %2.2f\"%(interestRate*100))\n",
    "print(\"Principal to be paid: %5.2f\"%abs(principal2Pay))\n",
    "print(\"Interest to be paid: %5.2f\"%abs(interest2Pay))\n",
    "print(\"Principal+Interest, to be paid: %5.2f\"%abs(principal2Pay+interest2Pay))"
   ]
  },
  {
   "cell_type": "code",
   "execution_count": null,
   "metadata": {},
   "outputs": [],
   "source": []
  }
 ],
 "metadata": {
  "kernelspec": {
   "display_name": "venv",
   "language": "python",
   "name": "python3"
  },
  "language_info": {
   "codemirror_mode": {
    "name": "ipython",
    "version": 3
   },
   "file_extension": ".py",
   "mimetype": "text/x-python",
   "name": "python",
   "nbconvert_exporter": "python",
   "pygments_lexer": "ipython3",
   "version": "3.10.0"
  },
  "orig_nbformat": 4
 },
 "nbformat": 4,
 "nbformat_minor": 2
}
